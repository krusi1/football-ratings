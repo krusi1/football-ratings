{
 "cells": [
  {
   "cell_type": "code",
   "execution_count": 5,
   "metadata": {},
   "outputs": [],
   "source": [
    "import pandas as pd\n",
    "\n",
    "df_all = pd.DataFrame()\n",
    "\n",
    "for year in range(2017, 2021):\n",
    "    season = str(year) + '-' + str(year+1)[-2:]\n",
    "    csvname = 'input/xg_bundesliga_' + season + '.csv'\n",
    "\n",
    "    df = pd.read_csv(csvname)[['Wk', 'Home', 'xG', 'Score', 'xG.1', 'Away']].rename(columns={'Wk': 'round',\n",
    "                                                                                             'Home': 'team1',\n",
    "                                                                                             'xG': 'xg1',\n",
    "                                                                                             'xG.1': 'xg0',\n",
    "                                                                                             'Away': 'team0'\n",
    "                                                                                            }).dropna()\n",
    "\n",
    "    df['season'] = season\n",
    "    df['round'] = df['round'].astype(int)                                                                                                     \n",
    "    df['score1'] = df['Score'].str[0].astype(int)\n",
    "    df['score0'] = df['Score'].str[2].astype(int)\n",
    "    df = df.drop(columns=\"Score\")\n",
    "\n",
    "    df['xg_against1'] = df['xg0']\n",
    "    df['xg_against0'] = df['xg1']\n",
    "    df['score_against1'] = df['score0']\n",
    "    df['score_against0'] = df['score1']\n",
    "\n",
    "    df = df.reset_index().rename(columns={'index': 'match_id'})\n",
    "    df = pd.wide_to_long(df, ['team', 'xg', 'xg_against', 'score', 'score_against'], i='match_id', j='home').sort_values(by=['match_id', 'home'], ascending=[True, False]).reset_index()\n",
    "\n",
    "    df_all = df_all.append(df, ignore_index=True)\n",
    "\n",
    "\n",
    "### Export data\n",
    "df_all.to_csv('input/xg_bundesliga.csv', index=False)  \n",
    "df_all[['team']].rename(columns={'team': 'team_xg'}).groupby('team_xg').count().to_csv('input/team_names_xg.csv')\n"
   ]
  },
  {
   "cell_type": "code",
   "execution_count": null,
   "metadata": {},
   "outputs": [],
   "source": []
  }
 ],
 "metadata": {
  "kernelspec": {
   "display_name": "Python 3",
   "language": "python",
   "name": "python3"
  },
  "language_info": {
   "codemirror_mode": {
    "name": "ipython",
    "version": 3
   },
   "file_extension": ".py",
   "mimetype": "text/x-python",
   "name": "python",
   "nbconvert_exporter": "python",
   "pygments_lexer": "ipython3",
   "version": "3.7.3"
  }
 },
 "nbformat": 4,
 "nbformat_minor": 4
}
